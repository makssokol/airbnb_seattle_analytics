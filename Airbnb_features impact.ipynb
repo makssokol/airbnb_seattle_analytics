{
 "cells": [
  {
   "cell_type": "markdown",
   "id": "47f22e87",
   "metadata": {},
   "source": [
    "In this notebook I will try to identify which charachteristics of the listed properties have the most significant impact on the price at which the property is exposed (we don't know the actual price at which it is rented out however it should be a good approximation). There is a presumption that the size and location have the most significant influence. But what is more important? Let's figure out."
   ]
  },
  {
   "cell_type": "code",
   "execution_count": 1,
   "id": "7837387d",
   "metadata": {},
   "outputs": [],
   "source": [
    "import numpy as np\n",
    "import pandas as pd\n",
    "import seaborn as sns\n",
    "import matplotlib.pyplot as plt\n",
    "from sklearn.model_selection import train_test_split\n",
    "from sklearn.linear_model import LinearRegression\n",
    "from sklearn.metrics import r2_score"
   ]
  },
  {
   "cell_type": "code",
   "execution_count": 2,
   "id": "c3890728",
   "metadata": {},
   "outputs": [
    {
     "data": {
      "text/plain": [
       "Index(['id', 'listing_url', 'scrape_id', 'last_scraped', 'name', 'summary',\n",
       "       'space', 'description', 'experiences_offered', 'neighborhood_overview',\n",
       "       'notes', 'transit', 'thumbnail_url', 'medium_url', 'picture_url',\n",
       "       'xl_picture_url', 'host_id', 'host_url', 'host_name', 'host_since',\n",
       "       'host_location', 'host_about', 'host_response_time',\n",
       "       'host_response_rate', 'host_acceptance_rate', 'host_is_superhost',\n",
       "       'host_thumbnail_url', 'host_picture_url', 'host_neighbourhood',\n",
       "       'host_listings_count', 'host_total_listings_count',\n",
       "       'host_verifications', 'host_has_profile_pic', 'host_identity_verified',\n",
       "       'street', 'neighbourhood', 'neighbourhood_cleansed',\n",
       "       'neighbourhood_group_cleansed', 'city', 'state', 'zipcode', 'market',\n",
       "       'smart_location', 'country_code', 'country', 'latitude', 'longitude',\n",
       "       'is_location_exact', 'property_type', 'room_type', 'accommodates',\n",
       "       'bathrooms', 'bedrooms', 'beds', 'bed_type', 'amenities', 'square_feet',\n",
       "       'price', 'weekly_price', 'monthly_price', 'security_deposit',\n",
       "       'cleaning_fee', 'guests_included', 'extra_people', 'minimum_nights',\n",
       "       'maximum_nights', 'calendar_updated', 'has_availability',\n",
       "       'availability_30', 'availability_60', 'availability_90',\n",
       "       'availability_365', 'calendar_last_scraped', 'number_of_reviews',\n",
       "       'first_review', 'last_review', 'review_scores_rating',\n",
       "       'review_scores_accuracy', 'review_scores_cleanliness',\n",
       "       'review_scores_checkin', 'review_scores_communication',\n",
       "       'review_scores_location', 'review_scores_value', 'requires_license',\n",
       "       'license', 'jurisdiction_names', 'instant_bookable',\n",
       "       'cancellation_policy', 'require_guest_profile_picture',\n",
       "       'require_guest_phone_verification', 'calculated_host_listings_count',\n",
       "       'reviews_per_month'],\n",
       "      dtype='object')"
      ]
     },
     "execution_count": 2,
     "metadata": {},
     "output_type": "execute_result"
    }
   ],
   "source": [
    "# Here we are downloading our data to df dataframe. And let's look to the columns to find ones appropriate for\n",
    "# our purposes (location, size (number of bedrooms) and price).\n",
    "df = pd.read_csv('archive/listings.csv')\n",
    "df.columns"
   ]
  },
  {
   "cell_type": "code",
   "execution_count": 3,
   "id": "d1e003e7",
   "metadata": {},
   "outputs": [
    {
     "data": {
      "text/plain": [
       "Other neighborhoods    794\n",
       "Capitol Hill           567\n",
       "Downtown               530\n",
       "Central Area           369\n",
       "Queen Anne             295\n",
       "Ballard                230\n",
       "West Seattle           203\n",
       "Rainier Valley         159\n",
       "University District    122\n",
       "Beacon Hill            118\n",
       "Cascade                 89\n",
       "Northgate               80\n",
       "Delridge                79\n",
       "Lake City               67\n",
       "Magnolia                61\n",
       "Seward Park             44\n",
       "Interbay                11\n",
       "Name: neighbourhood_group_cleansed, dtype: int64"
      ]
     },
     "execution_count": 3,
     "metadata": {},
     "output_type": "execute_result"
    }
   ],
   "source": [
    "# It looks like 'neighbourhood_group_cleansed' column is most appropriate as it gives us location name \n",
    "# in mostly aggregated form which is fine for our purposes.\n",
    "df.neighbourhood_group_cleansed.value_counts()"
   ]
  },
  {
   "cell_type": "code",
   "execution_count": 4,
   "id": "75179658",
   "metadata": {},
   "outputs": [
    {
     "data": {
      "text/plain": [
       "1.0    2417\n",
       "2.0     640\n",
       "0.0     372\n",
       "3.0     283\n",
       "4.0      69\n",
       "5.0      24\n",
       "6.0       6\n",
       "7.0       1\n",
       "Name: bedrooms, dtype: int64"
      ]
     },
     "execution_count": 4,
     "metadata": {},
     "output_type": "execute_result"
    }
   ],
   "source": [
    "# And the column 'bedroom' is what we are looking for. It's a bit strange to see '0' bedrooms options\n",
    "# however I would assume that these are studio type apartments.\n",
    "df.bedrooms.value_counts()"
   ]
  },
  {
   "cell_type": "code",
   "execution_count": 5,
   "id": "2a6c699b",
   "metadata": {},
   "outputs": [
    {
     "data": {
      "text/html": [
       "<div>\n",
       "<style scoped>\n",
       "    .dataframe tbody tr th:only-of-type {\n",
       "        vertical-align: middle;\n",
       "    }\n",
       "\n",
       "    .dataframe tbody tr th {\n",
       "        vertical-align: top;\n",
       "    }\n",
       "\n",
       "    .dataframe thead th {\n",
       "        text-align: right;\n",
       "    }\n",
       "</style>\n",
       "<table border=\"1\" class=\"dataframe\">\n",
       "  <thead>\n",
       "    <tr style=\"text-align: right;\">\n",
       "      <th></th>\n",
       "      <th>id</th>\n",
       "      <th>listing_url</th>\n",
       "      <th>scrape_id</th>\n",
       "      <th>last_scraped</th>\n",
       "      <th>name</th>\n",
       "      <th>summary</th>\n",
       "      <th>space</th>\n",
       "      <th>description</th>\n",
       "      <th>experiences_offered</th>\n",
       "      <th>neighborhood_overview</th>\n",
       "      <th>...</th>\n",
       "      <th>review_scores_value</th>\n",
       "      <th>requires_license</th>\n",
       "      <th>license</th>\n",
       "      <th>jurisdiction_names</th>\n",
       "      <th>instant_bookable</th>\n",
       "      <th>cancellation_policy</th>\n",
       "      <th>require_guest_profile_picture</th>\n",
       "      <th>require_guest_phone_verification</th>\n",
       "      <th>calculated_host_listings_count</th>\n",
       "      <th>reviews_per_month</th>\n",
       "    </tr>\n",
       "  </thead>\n",
       "  <tbody>\n",
       "    <tr>\n",
       "      <th>3</th>\n",
       "      <td>7421966</td>\n",
       "      <td>https://www.airbnb.com/rooms/7421966</td>\n",
       "      <td>20160104002432</td>\n",
       "      <td>2016-01-04</td>\n",
       "      <td>Queen Anne Chateau</td>\n",
       "      <td>A charming apartment that sits atop Queen Anne...</td>\n",
       "      <td>NaN</td>\n",
       "      <td>A charming apartment that sits atop Queen Anne...</td>\n",
       "      <td>none</td>\n",
       "      <td>NaN</td>\n",
       "      <td>...</td>\n",
       "      <td>NaN</td>\n",
       "      <td>f</td>\n",
       "      <td>NaN</td>\n",
       "      <td>WASHINGTON</td>\n",
       "      <td>f</td>\n",
       "      <td>flexible</td>\n",
       "      <td>f</td>\n",
       "      <td>f</td>\n",
       "      <td>1</td>\n",
       "      <td>NaN</td>\n",
       "    </tr>\n",
       "    <tr>\n",
       "      <th>39</th>\n",
       "      <td>6389657</td>\n",
       "      <td>https://www.airbnb.com/rooms/6389657</td>\n",
       "      <td>20160104002432</td>\n",
       "      <td>2016-01-04</td>\n",
       "      <td>Cute little Seattle Studio!</td>\n",
       "      <td>I love my little studio! My space might be sma...</td>\n",
       "      <td>The patio has a table and chairs and potted pl...</td>\n",
       "      <td>I love my little studio! My space might be sma...</td>\n",
       "      <td>none</td>\n",
       "      <td>The apartment is in a great location, everythi...</td>\n",
       "      <td>...</td>\n",
       "      <td>10.0</td>\n",
       "      <td>f</td>\n",
       "      <td>NaN</td>\n",
       "      <td>WASHINGTON</td>\n",
       "      <td>f</td>\n",
       "      <td>flexible</td>\n",
       "      <td>f</td>\n",
       "      <td>f</td>\n",
       "      <td>1</td>\n",
       "      <td>1.98</td>\n",
       "    </tr>\n",
       "    <tr>\n",
       "      <th>45</th>\n",
       "      <td>6004058</td>\n",
       "      <td>https://www.airbnb.com/rooms/6004058</td>\n",
       "      <td>20160104002432</td>\n",
       "      <td>2016-01-04</td>\n",
       "      <td>LOWER QUEEN ANNE STUDIO W/PATIO</td>\n",
       "      <td>I love my 3rd floor vintage studio apartment w...</td>\n",
       "      <td>-kitchen (stocked with basics &amp; condiments) -b...</td>\n",
       "      <td>I love my 3rd floor vintage studio apartment w...</td>\n",
       "      <td>none</td>\n",
       "      <td>Queen Anne is very Walk-able. From the studio ...</td>\n",
       "      <td>...</td>\n",
       "      <td>9.0</td>\n",
       "      <td>f</td>\n",
       "      <td>NaN</td>\n",
       "      <td>WASHINGTON</td>\n",
       "      <td>f</td>\n",
       "      <td>flexible</td>\n",
       "      <td>f</td>\n",
       "      <td>f</td>\n",
       "      <td>1</td>\n",
       "      <td>2.29</td>\n",
       "    </tr>\n",
       "    <tr>\n",
       "      <th>47</th>\n",
       "      <td>8515408</td>\n",
       "      <td>https://www.airbnb.com/rooms/8515408</td>\n",
       "      <td>20160104002432</td>\n",
       "      <td>2016-01-04</td>\n",
       "      <td>Queen Anne Hill Craftsman studio</td>\n",
       "      <td>Beautiful craftsman style studio, located in o...</td>\n",
       "      <td>The \"Urban Nest\" studio was built with comfort...</td>\n",
       "      <td>Beautiful craftsman style studio, located in o...</td>\n",
       "      <td>none</td>\n",
       "      <td>Queen Anne Hill is centrally located.  A very ...</td>\n",
       "      <td>...</td>\n",
       "      <td>10.0</td>\n",
       "      <td>f</td>\n",
       "      <td>NaN</td>\n",
       "      <td>WASHINGTON</td>\n",
       "      <td>f</td>\n",
       "      <td>moderate</td>\n",
       "      <td>f</td>\n",
       "      <td>f</td>\n",
       "      <td>1</td>\n",
       "      <td>1.06</td>\n",
       "    </tr>\n",
       "    <tr>\n",
       "      <th>50</th>\n",
       "      <td>7772661</td>\n",
       "      <td>https://www.airbnb.com/rooms/7772661</td>\n",
       "      <td>20160104002432</td>\n",
       "      <td>2016-01-04</td>\n",
       "      <td>:: Carriage House :: Queen Anne ::</td>\n",
       "      <td>Charming loft-style studio in an urban garden ...</td>\n",
       "      <td>This is a detached carriage house, all yours t...</td>\n",
       "      <td>Charming loft-style studio in an urban garden ...</td>\n",
       "      <td>none</td>\n",
       "      <td>NaN</td>\n",
       "      <td>...</td>\n",
       "      <td>10.0</td>\n",
       "      <td>f</td>\n",
       "      <td>NaN</td>\n",
       "      <td>WASHINGTON</td>\n",
       "      <td>f</td>\n",
       "      <td>moderate</td>\n",
       "      <td>f</td>\n",
       "      <td>f</td>\n",
       "      <td>1</td>\n",
       "      <td>2.00</td>\n",
       "    </tr>\n",
       "  </tbody>\n",
       "</table>\n",
       "<p>5 rows × 92 columns</p>\n",
       "</div>"
      ],
      "text/plain": [
       "         id                           listing_url       scrape_id  \\\n",
       "3   7421966  https://www.airbnb.com/rooms/7421966  20160104002432   \n",
       "39  6389657  https://www.airbnb.com/rooms/6389657  20160104002432   \n",
       "45  6004058  https://www.airbnb.com/rooms/6004058  20160104002432   \n",
       "47  8515408  https://www.airbnb.com/rooms/8515408  20160104002432   \n",
       "50  7772661  https://www.airbnb.com/rooms/7772661  20160104002432   \n",
       "\n",
       "   last_scraped                                name  \\\n",
       "3    2016-01-04                  Queen Anne Chateau   \n",
       "39   2016-01-04         Cute little Seattle Studio!   \n",
       "45   2016-01-04     LOWER QUEEN ANNE STUDIO W/PATIO   \n",
       "47   2016-01-04    Queen Anne Hill Craftsman studio   \n",
       "50   2016-01-04  :: Carriage House :: Queen Anne ::   \n",
       "\n",
       "                                              summary  \\\n",
       "3   A charming apartment that sits atop Queen Anne...   \n",
       "39  I love my little studio! My space might be sma...   \n",
       "45  I love my 3rd floor vintage studio apartment w...   \n",
       "47  Beautiful craftsman style studio, located in o...   \n",
       "50  Charming loft-style studio in an urban garden ...   \n",
       "\n",
       "                                                space  \\\n",
       "3                                                 NaN   \n",
       "39  The patio has a table and chairs and potted pl...   \n",
       "45  -kitchen (stocked with basics & condiments) -b...   \n",
       "47  The \"Urban Nest\" studio was built with comfort...   \n",
       "50  This is a detached carriage house, all yours t...   \n",
       "\n",
       "                                          description experiences_offered  \\\n",
       "3   A charming apartment that sits atop Queen Anne...                none   \n",
       "39  I love my little studio! My space might be sma...                none   \n",
       "45  I love my 3rd floor vintage studio apartment w...                none   \n",
       "47  Beautiful craftsman style studio, located in o...                none   \n",
       "50  Charming loft-style studio in an urban garden ...                none   \n",
       "\n",
       "                                neighborhood_overview  ...  \\\n",
       "3                                                 NaN  ...   \n",
       "39  The apartment is in a great location, everythi...  ...   \n",
       "45  Queen Anne is very Walk-able. From the studio ...  ...   \n",
       "47  Queen Anne Hill is centrally located.  A very ...  ...   \n",
       "50                                                NaN  ...   \n",
       "\n",
       "   review_scores_value requires_license license jurisdiction_names  \\\n",
       "3                  NaN                f     NaN         WASHINGTON   \n",
       "39                10.0                f     NaN         WASHINGTON   \n",
       "45                 9.0                f     NaN         WASHINGTON   \n",
       "47                10.0                f     NaN         WASHINGTON   \n",
       "50                10.0                f     NaN         WASHINGTON   \n",
       "\n",
       "   instant_bookable cancellation_policy  require_guest_profile_picture  \\\n",
       "3                 f            flexible                              f   \n",
       "39                f            flexible                              f   \n",
       "45                f            flexible                              f   \n",
       "47                f            moderate                              f   \n",
       "50                f            moderate                              f   \n",
       "\n",
       "   require_guest_phone_verification calculated_host_listings_count  \\\n",
       "3                                 f                              1   \n",
       "39                                f                              1   \n",
       "45                                f                              1   \n",
       "47                                f                              1   \n",
       "50                                f                              1   \n",
       "\n",
       "   reviews_per_month  \n",
       "3                NaN  \n",
       "39              1.98  \n",
       "45              2.29  \n",
       "47              1.06  \n",
       "50              2.00  \n",
       "\n",
       "[5 rows x 92 columns]"
      ]
     },
     "execution_count": 5,
     "metadata": {},
     "output_type": "execute_result"
    }
   ],
   "source": [
    "# And yes, my guess was correct according to the descriptions below.\n",
    "df[df.bedrooms == 0].head()"
   ]
  },
  {
   "cell_type": "code",
   "execution_count": 6,
   "id": "ade93a07",
   "metadata": {},
   "outputs": [],
   "source": [
    "# Now let's make separate dataframe with the columns of interest.\n",
    "df_analyze = df[['neighbourhood_group_cleansed', 'bedrooms', 'price']]"
   ]
  },
  {
   "cell_type": "code",
   "execution_count": 7,
   "id": "7ac8d720",
   "metadata": {},
   "outputs": [
    {
     "data": {
      "text/html": [
       "<div>\n",
       "<style scoped>\n",
       "    .dataframe tbody tr th:only-of-type {\n",
       "        vertical-align: middle;\n",
       "    }\n",
       "\n",
       "    .dataframe tbody tr th {\n",
       "        vertical-align: top;\n",
       "    }\n",
       "\n",
       "    .dataframe thead th {\n",
       "        text-align: right;\n",
       "    }\n",
       "</style>\n",
       "<table border=\"1\" class=\"dataframe\">\n",
       "  <thead>\n",
       "    <tr style=\"text-align: right;\">\n",
       "      <th></th>\n",
       "      <th>neighbourhood_group_cleansed</th>\n",
       "      <th>bedrooms</th>\n",
       "      <th>price</th>\n",
       "    </tr>\n",
       "  </thead>\n",
       "  <tbody>\n",
       "    <tr>\n",
       "      <th>0</th>\n",
       "      <td>Queen Anne</td>\n",
       "      <td>1.0</td>\n",
       "      <td>$85.00</td>\n",
       "    </tr>\n",
       "    <tr>\n",
       "      <th>1</th>\n",
       "      <td>Queen Anne</td>\n",
       "      <td>1.0</td>\n",
       "      <td>$150.00</td>\n",
       "    </tr>\n",
       "    <tr>\n",
       "      <th>2</th>\n",
       "      <td>Queen Anne</td>\n",
       "      <td>5.0</td>\n",
       "      <td>$975.00</td>\n",
       "    </tr>\n",
       "    <tr>\n",
       "      <th>3</th>\n",
       "      <td>Queen Anne</td>\n",
       "      <td>0.0</td>\n",
       "      <td>$100.00</td>\n",
       "    </tr>\n",
       "    <tr>\n",
       "      <th>4</th>\n",
       "      <td>Queen Anne</td>\n",
       "      <td>3.0</td>\n",
       "      <td>$450.00</td>\n",
       "    </tr>\n",
       "  </tbody>\n",
       "</table>\n",
       "</div>"
      ],
      "text/plain": [
       "  neighbourhood_group_cleansed  bedrooms    price\n",
       "0                   Queen Anne       1.0   $85.00\n",
       "1                   Queen Anne       1.0  $150.00\n",
       "2                   Queen Anne       5.0  $975.00\n",
       "3                   Queen Anne       0.0  $100.00\n",
       "4                   Queen Anne       3.0  $450.00"
      ]
     },
     "execution_count": 7,
     "metadata": {},
     "output_type": "execute_result"
    }
   ],
   "source": [
    "# Check correctness\n",
    "df_analyze.head()"
   ]
  },
  {
   "cell_type": "code",
   "execution_count": 8,
   "id": "9273a76d",
   "metadata": {},
   "outputs": [
    {
     "name": "stdout",
     "output_type": "stream",
     "text": [
      "<class 'pandas.core.frame.DataFrame'>\n",
      "RangeIndex: 3818 entries, 0 to 3817\n",
      "Data columns (total 3 columns):\n",
      " #   Column                        Non-Null Count  Dtype  \n",
      "---  ------                        --------------  -----  \n",
      " 0   neighbourhood_group_cleansed  3818 non-null   object \n",
      " 1   bedrooms                      3812 non-null   float64\n",
      " 2   price                         3818 non-null   object \n",
      "dtypes: float64(1), object(2)\n",
      "memory usage: 89.6+ KB\n"
     ]
    }
   ],
   "source": [
    "# Here we need to look at the datatypes and the quantity of missed values.\n",
    "df_analyze.info()"
   ]
  },
  {
   "cell_type": "code",
   "execution_count": 9,
   "id": "b7664863",
   "metadata": {},
   "outputs": [
    {
     "name": "stderr",
     "output_type": "stream",
     "text": [
      "/var/folders/2z/0v2b22ds6vsd_n4drt7f17bh0000gn/T/ipykernel_25614/2626608951.py:2: SettingWithCopyWarning: \n",
      "A value is trying to be set on a copy of a slice from a DataFrame.\n",
      "Try using .loc[row_indexer,col_indexer] = value instead\n",
      "\n",
      "See the caveats in the documentation: https://pandas.pydata.org/pandas-docs/stable/user_guide/indexing.html#returning-a-view-versus-a-copy\n",
      "  df_analyze['price'] = df_analyze['price'].replace('[\\$,]', '', regex=True).astype(float)\n"
     ]
    }
   ],
   "source": [
    "# The 'price' column is an object and we need to convert it to float. Let's do it as following.\n",
    "df_analyze['price'] = df_analyze['price'].replace('[\\$,]', '', regex=True).astype(float)"
   ]
  },
  {
   "cell_type": "code",
   "execution_count": 10,
   "id": "2cac5e4c",
   "metadata": {},
   "outputs": [
    {
     "name": "stdout",
     "output_type": "stream",
     "text": [
      "<class 'pandas.core.frame.DataFrame'>\n",
      "RangeIndex: 3818 entries, 0 to 3817\n",
      "Data columns (total 3 columns):\n",
      " #   Column                        Non-Null Count  Dtype  \n",
      "---  ------                        --------------  -----  \n",
      " 0   neighbourhood_group_cleansed  3818 non-null   object \n",
      " 1   bedrooms                      3812 non-null   float64\n",
      " 2   price                         3818 non-null   float64\n",
      "dtypes: float64(2), object(1)\n",
      "memory usage: 89.6+ KB\n"
     ]
    }
   ],
   "source": [
    "# Let's check.\n",
    "df_analyze.info()"
   ]
  },
  {
   "cell_type": "code",
   "execution_count": 11,
   "id": "5c534c26",
   "metadata": {},
   "outputs": [],
   "source": [
    "# Since we have only 6 missing records in 'bedrooms' column, we can just drop them without noticeable impact\n",
    "# on the accuracy of our analysis.\n",
    "\n",
    "df_analyze = df_analyze.dropna()"
   ]
  },
  {
   "cell_type": "code",
   "execution_count": 12,
   "id": "05a87fd8",
   "metadata": {},
   "outputs": [],
   "source": [
    "# Now before making the models let's visualise a bit the dependence of the price from \n",
    "# the size of apartment (number of bedrooms) and location.\n",
    "# For this purpose let's group the records by bedrooms to identify average price for each type of apartments.\n",
    "\n",
    "df_analyze_bedroom = df_analyze.groupby(['bedrooms']).mean()"
   ]
  },
  {
   "cell_type": "code",
   "execution_count": 13,
   "id": "551e4a94",
   "metadata": {},
   "outputs": [
    {
     "data": {
      "text/html": [
       "<div>\n",
       "<style scoped>\n",
       "    .dataframe tbody tr th:only-of-type {\n",
       "        vertical-align: middle;\n",
       "    }\n",
       "\n",
       "    .dataframe tbody tr th {\n",
       "        vertical-align: top;\n",
       "    }\n",
       "\n",
       "    .dataframe thead th {\n",
       "        text-align: right;\n",
       "    }\n",
       "</style>\n",
       "<table border=\"1\" class=\"dataframe\">\n",
       "  <thead>\n",
       "    <tr style=\"text-align: right;\">\n",
       "      <th></th>\n",
       "      <th>price</th>\n",
       "    </tr>\n",
       "    <tr>\n",
       "      <th>bedrooms</th>\n",
       "      <th></th>\n",
       "    </tr>\n",
       "  </thead>\n",
       "  <tbody>\n",
       "    <tr>\n",
       "      <th>0.0</th>\n",
       "      <td>103.548387</td>\n",
       "    </tr>\n",
       "    <tr>\n",
       "      <th>1.0</th>\n",
       "      <td>95.706247</td>\n",
       "    </tr>\n",
       "    <tr>\n",
       "      <th>2.0</th>\n",
       "      <td>174.062500</td>\n",
       "    </tr>\n",
       "    <tr>\n",
       "      <th>3.0</th>\n",
       "      <td>249.530035</td>\n",
       "    </tr>\n",
       "    <tr>\n",
       "      <th>4.0</th>\n",
       "      <td>313.695652</td>\n",
       "    </tr>\n",
       "  </tbody>\n",
       "</table>\n",
       "</div>"
      ],
      "text/plain": [
       "               price\n",
       "bedrooms            \n",
       "0.0       103.548387\n",
       "1.0        95.706247\n",
       "2.0       174.062500\n",
       "3.0       249.530035\n",
       "4.0       313.695652"
      ]
     },
     "execution_count": 13,
     "metadata": {},
     "output_type": "execute_result"
    }
   ],
   "source": [
    "# Let's check.\n",
    "\n",
    "df_analyze_bedroom.head()"
   ]
  },
  {
   "cell_type": "code",
   "execution_count": 16,
   "id": "07e91656",
   "metadata": {},
   "outputs": [
    {
     "data": {
      "image/png": "[encoded data removed]",
      "text/plain": [
       "<Figure size 720x432 with 1 Axes>"
      ]
     },
     "metadata": {},
     "output_type": "display_data"
    }
   ],
   "source": [
    "# And now we can draw respective barplot.\n",
    "\n",
    "plt.figure(figsize=[10, 6]);\n",
    "sns.set(style=\"whitegrid\");\n",
    "sns.barplot(data=df_analyze_bedroom, x=df_analyze_bedroom.index, y=df_analyze_bedroom.price, color='steelblue');\n",
    "# plt.xticks(rotation=20);\n",
    "plt.ylabel('Price, USD');\n",
    "plt.xlabel('');\n",
    "plt.title('Average prices by number of bedrooms, USD');"
   ]
  },
  {
   "cell_type": "markdown",
   "id": "f9750577",
   "metadata": {},
   "source": [
    "As we can see above the prices looks really dependent on the number of bedrooms. There is only one 7-bedroom option so it's not representative. And studios are often better located than other types of properties (in downtown or just on the seashore). So this factor can equate their prices with 1-bedroom properties."
   ]
  },
  {
   "cell_type": "code",
   "execution_count": 17,
   "id": "a232ba08",
   "metadata": {},
   "outputs": [
    {
     "data": {
      "text/html": [
       "<div>\n",
       "<style scoped>\n",
       "    .dataframe tbody tr th:only-of-type {\n",
       "        vertical-align: middle;\n",
       "    }\n",
       "\n",
       "    .dataframe tbody tr th {\n",
       "        vertical-align: top;\n",
       "    }\n",
       "\n",
       "    .dataframe thead th {\n",
       "        text-align: right;\n",
       "    }\n",
       "</style>\n",
       "<table border=\"1\" class=\"dataframe\">\n",
       "  <thead>\n",
       "    <tr style=\"text-align: right;\">\n",
       "      <th></th>\n",
       "      <th>bedrooms</th>\n",
       "      <th>price</th>\n",
       "    </tr>\n",
       "    <tr>\n",
       "      <th>neighbourhood_group_cleansed</th>\n",
       "      <th></th>\n",
       "      <th></th>\n",
       "    </tr>\n",
       "  </thead>\n",
       "  <tbody>\n",
       "    <tr>\n",
       "      <th>Ballard</th>\n",
       "      <td>1.434783</td>\n",
       "      <td>124.682609</td>\n",
       "    </tr>\n",
       "    <tr>\n",
       "      <th>Beacon Hill</th>\n",
       "      <td>1.262712</td>\n",
       "      <td>94.669492</td>\n",
       "    </tr>\n",
       "    <tr>\n",
       "      <th>Capitol Hill</th>\n",
       "      <td>1.139823</td>\n",
       "      <td>130.746903</td>\n",
       "    </tr>\n",
       "    <tr>\n",
       "      <th>Cascade</th>\n",
       "      <td>1.101124</td>\n",
       "      <td>140.101124</td>\n",
       "    </tr>\n",
       "    <tr>\n",
       "      <th>Central Area</th>\n",
       "      <td>1.436314</td>\n",
       "      <td>128.338753</td>\n",
       "    </tr>\n",
       "  </tbody>\n",
       "</table>\n",
       "</div>"
      ],
      "text/plain": [
       "                              bedrooms       price\n",
       "neighbourhood_group_cleansed                      \n",
       "Ballard                       1.434783  124.682609\n",
       "Beacon Hill                   1.262712   94.669492\n",
       "Capitol Hill                  1.139823  130.746903\n",
       "Cascade                       1.101124  140.101124\n",
       "Central Area                  1.436314  128.338753"
      ]
     },
     "execution_count": 17,
     "metadata": {},
     "output_type": "execute_result"
    }
   ],
   "source": [
    "# Now let's see the distribution of rent prices by districts. For this purpose I will also group the data. \n",
    "df_analyze_location = df_analyze.groupby(['neighbourhood_group_cleansed']).mean()\n",
    "df_analyze_location.head()"
   ]
  },
  {
   "cell_type": "code",
   "execution_count": 18,
   "id": "d9203625",
   "metadata": {},
   "outputs": [
    {
     "data": {
      "image/png": "[encoded data removed]",
      "text/plain": [
       "<Figure size 720x432 with 1 Axes>"
      ]
     },
     "metadata": {},
     "output_type": "display_data"
    }
   ],
   "source": [
    "plt.figure(figsize=[10, 6]);\n",
    "sns.set(style=\"whitegrid\");\n",
    "sns.barplot(data=df_analyze_location, x=df_analyze_location.index, y=df_analyze_location.price.sort_values(), color='steelblue');\n",
    "plt.xticks(rotation=90);\n",
    "plt.ylabel('Price, USD');\n",
    "plt.xlabel('');\n",
    "plt.title('Average prices by location');"
   ]
  },
  {
   "cell_type": "markdown",
   "id": "e1909dc5",
   "metadata": {},
   "source": [
    "I don't know the geography of Seattle but it's obvious that there are districts the prices of which differ more than twice. "
   ]
  },
  {
   "cell_type": "code",
   "execution_count": 26,
   "id": "e00e4201",
   "metadata": {},
   "outputs": [
    {
     "data": {
      "text/plain": [
       "0.3863162766641641"
      ]
     },
     "execution_count": 26,
     "metadata": {},
     "output_type": "execute_result"
    }
   ],
   "source": [
    "# Now let's create the model which will predict prices based on number of bedrooms. And as a result score it.\n",
    "X = np.array(df_analyze['bedrooms']).reshape(-1, 1)\n",
    "y = np.array(df_analyze['price']).reshape(-1, 1)\n",
    "X_train, X_test, y_train, y_test = train_test_split(X, y, test_size = 0.3, random_state=42)\n",
    "lr_model_bedrooms = LinearRegression()\n",
    "lr_model_bedrooms.fit(X_train, y_train)\n",
    "y_pred = lr_model_bedrooms.predict(X_test)\n",
    "\n",
    "r2_score(y_test, y_pred)"
   ]
  },
  {
   "cell_type": "markdown",
   "id": "5d476e91",
   "metadata": {},
   "source": [
    "As we can see 38.6% of price variation is defined by number of bedrooms. This is quite significant influence."
   ]
  },
  {
   "cell_type": "code",
   "execution_count": 20,
   "id": "2a18d068",
   "metadata": {},
   "outputs": [
    {
     "data": {
      "image/png": "[encoded data removed]",
      "text/plain": [
       "<Figure size 432x288 with 1 Axes>"
      ]
     },
     "metadata": {},
     "output_type": "display_data"
    }
   ],
   "source": [
    "# Let's visualise our model below.\n",
    "\n",
    "plt.plot(X_test, y_pred, color ='k');\n",
    "plt.scatter(X_test, y_test, color ='b');"
   ]
  },
  {
   "cell_type": "markdown",
   "id": "2d4db299",
   "metadata": {},
   "source": [
    "Now let's check how the location affect the price of the property rent. Since the name of location is a nominal categorical value I will apply one-hot encoding using pandas get_dummies method."
   ]
  },
  {
   "cell_type": "code",
   "execution_count": 21,
   "id": "d8c067f8",
   "metadata": {},
   "outputs": [
    {
     "data": {
      "text/html": [
       "<div>\n",
       "<style scoped>\n",
       "    .dataframe tbody tr th:only-of-type {\n",
       "        vertical-align: middle;\n",
       "    }\n",
       "\n",
       "    .dataframe tbody tr th {\n",
       "        vertical-align: top;\n",
       "    }\n",
       "\n",
       "    .dataframe thead th {\n",
       "        text-align: right;\n",
       "    }\n",
       "</style>\n",
       "<table border=\"1\" class=\"dataframe\">\n",
       "  <thead>\n",
       "    <tr style=\"text-align: right;\">\n",
       "      <th></th>\n",
       "      <th>Ballard</th>\n",
       "      <th>Beacon Hill</th>\n",
       "      <th>Capitol Hill</th>\n",
       "      <th>Cascade</th>\n",
       "      <th>Central Area</th>\n",
       "      <th>Delridge</th>\n",
       "      <th>Downtown</th>\n",
       "      <th>Interbay</th>\n",
       "      <th>Lake City</th>\n",
       "      <th>Magnolia</th>\n",
       "      <th>Northgate</th>\n",
       "      <th>Other neighborhoods</th>\n",
       "      <th>Queen Anne</th>\n",
       "      <th>Rainier Valley</th>\n",
       "      <th>Seward Park</th>\n",
       "      <th>University District</th>\n",
       "      <th>West Seattle</th>\n",
       "      <th>price</th>\n",
       "    </tr>\n",
       "  </thead>\n",
       "  <tbody>\n",
       "    <tr>\n",
       "      <th>0</th>\n",
       "      <td>0</td>\n",
       "      <td>0</td>\n",
       "      <td>0</td>\n",
       "      <td>0</td>\n",
       "      <td>0</td>\n",
       "      <td>0</td>\n",
       "      <td>0</td>\n",
       "      <td>0</td>\n",
       "      <td>0</td>\n",
       "      <td>0</td>\n",
       "      <td>0</td>\n",
       "      <td>0</td>\n",
       "      <td>1</td>\n",
       "      <td>0</td>\n",
       "      <td>0</td>\n",
       "      <td>0</td>\n",
       "      <td>0</td>\n",
       "      <td>85.0</td>\n",
       "    </tr>\n",
       "    <tr>\n",
       "      <th>1</th>\n",
       "      <td>0</td>\n",
       "      <td>0</td>\n",
       "      <td>0</td>\n",
       "      <td>0</td>\n",
       "      <td>0</td>\n",
       "      <td>0</td>\n",
       "      <td>0</td>\n",
       "      <td>0</td>\n",
       "      <td>0</td>\n",
       "      <td>0</td>\n",
       "      <td>0</td>\n",
       "      <td>0</td>\n",
       "      <td>1</td>\n",
       "      <td>0</td>\n",
       "      <td>0</td>\n",
       "      <td>0</td>\n",
       "      <td>0</td>\n",
       "      <td>150.0</td>\n",
       "    </tr>\n",
       "    <tr>\n",
       "      <th>2</th>\n",
       "      <td>0</td>\n",
       "      <td>0</td>\n",
       "      <td>0</td>\n",
       "      <td>0</td>\n",
       "      <td>0</td>\n",
       "      <td>0</td>\n",
       "      <td>0</td>\n",
       "      <td>0</td>\n",
       "      <td>0</td>\n",
       "      <td>0</td>\n",
       "      <td>0</td>\n",
       "      <td>0</td>\n",
       "      <td>1</td>\n",
       "      <td>0</td>\n",
       "      <td>0</td>\n",
       "      <td>0</td>\n",
       "      <td>0</td>\n",
       "      <td>975.0</td>\n",
       "    </tr>\n",
       "    <tr>\n",
       "      <th>3</th>\n",
       "      <td>0</td>\n",
       "      <td>0</td>\n",
       "      <td>0</td>\n",
       "      <td>0</td>\n",
       "      <td>0</td>\n",
       "      <td>0</td>\n",
       "      <td>0</td>\n",
       "      <td>0</td>\n",
       "      <td>0</td>\n",
       "      <td>0</td>\n",
       "      <td>0</td>\n",
       "      <td>0</td>\n",
       "      <td>1</td>\n",
       "      <td>0</td>\n",
       "      <td>0</td>\n",
       "      <td>0</td>\n",
       "      <td>0</td>\n",
       "      <td>100.0</td>\n",
       "    </tr>\n",
       "    <tr>\n",
       "      <th>4</th>\n",
       "      <td>0</td>\n",
       "      <td>0</td>\n",
       "      <td>0</td>\n",
       "      <td>0</td>\n",
       "      <td>0</td>\n",
       "      <td>0</td>\n",
       "      <td>0</td>\n",
       "      <td>0</td>\n",
       "      <td>0</td>\n",
       "      <td>0</td>\n",
       "      <td>0</td>\n",
       "      <td>0</td>\n",
       "      <td>1</td>\n",
       "      <td>0</td>\n",
       "      <td>0</td>\n",
       "      <td>0</td>\n",
       "      <td>0</td>\n",
       "      <td>450.0</td>\n",
       "    </tr>\n",
       "  </tbody>\n",
       "</table>\n",
       "</div>"
      ],
      "text/plain": [
       "   Ballard  Beacon Hill  Capitol Hill  Cascade  Central Area  Delridge  \\\n",
       "0        0            0             0        0             0         0   \n",
       "1        0            0             0        0             0         0   \n",
       "2        0            0             0        0             0         0   \n",
       "3        0            0             0        0             0         0   \n",
       "4        0            0             0        0             0         0   \n",
       "\n",
       "   Downtown  Interbay  Lake City  Magnolia  Northgate  Other neighborhoods  \\\n",
       "0         0         0          0         0          0                    0   \n",
       "1         0         0          0         0          0                    0   \n",
       "2         0         0          0         0          0                    0   \n",
       "3         0         0          0         0          0                    0   \n",
       "4         0         0          0         0          0                    0   \n",
       "\n",
       "   Queen Anne  Rainier Valley  Seward Park  University District  West Seattle  \\\n",
       "0           1               0            0                    0             0   \n",
       "1           1               0            0                    0             0   \n",
       "2           1               0            0                    0             0   \n",
       "3           1               0            0                    0             0   \n",
       "4           1               0            0                    0             0   \n",
       "\n",
       "   price  \n",
       "0   85.0  \n",
       "1  150.0  \n",
       "2  975.0  \n",
       "3  100.0  \n",
       "4  450.0  "
      ]
     },
     "execution_count": 21,
     "metadata": {},
     "output_type": "execute_result"
    }
   ],
   "source": [
    "df_location = pd.concat([pd.get_dummies(df_analyze['neighbourhood_group_cleansed']), df_analyze.price], axis=1)\n",
    "df_location.head()"
   ]
  },
  {
   "cell_type": "code",
   "execution_count": 24,
   "id": "d3704410",
   "metadata": {},
   "outputs": [
    {
     "data": {
      "text/plain": [
       "0.04897278485264989"
      ]
     },
     "execution_count": 24,
     "metadata": {},
     "output_type": "execute_result"
    }
   ],
   "source": [
    "# Having the encoded dataset we can just use it in our LR model. And let's have a look at R2 score in the end.\n",
    "\n",
    "X = df_location[df_location.columns[:-1]]\n",
    "y = df_location['price']\n",
    "X_train, X_test, y_train, y_test = train_test_split(X, y, test_size = 0.3, random_state=42)\n",
    "lr_model_location = LinearRegression()\n",
    "lr_model_location.fit(X_train, y_train)\n",
    "y_pred = lr_model_location.predict(X_test)\n",
    "\n",
    "r2_score(y_test, y_pred)"
   ]
  },
  {
   "cell_type": "markdown",
   "id": "788b25bc",
   "metadata": {},
   "source": [
    "And here is a surprise - less than 5% of price changes is explained by location of the property. This is still noticeable amount however not as dramatical as we could expect."
   ]
  },
  {
   "cell_type": "code",
   "execution_count": 28,
   "id": "6a4d68ad",
   "metadata": {},
   "outputs": [
    {
     "data": {
      "text/plain": [
       "0.45169356447242104"
      ]
     },
     "execution_count": 28,
     "metadata": {},
     "output_type": "execute_result"
    }
   ],
   "source": [
    "# And finally let's look at the combined effect of bedrooms and location on the rent price.\n",
    "\n",
    "X = pd.concat([df_location[df_location.columns[:-1]], df_analyze['bedrooms']], axis=1)\n",
    "y = df_location['price']\n",
    "X_train, X_test, y_train, y_test = train_test_split(X, y, test_size = 0.3, random_state=42)\n",
    "lr_model_location = LinearRegression()\n",
    "lr_model_location.fit(X_train, y_train)\n",
    "y_pred = lr_model_location.predict(X_test)\n",
    "\n",
    "r2_score(y_test, y_pred)"
   ]
  },
  {
   "cell_type": "markdown",
   "id": "fa21c942",
   "metadata": {},
   "source": [
    "Based on our LR model bedroom and location together contribute more than 45% in the rent price. We should notice that it is higher than simple adding of these 2 effects (38.6 + 4.9 = 43.5%)."
   ]
  }
 ],
 "metadata": {
  "kernelspec": {
   "display_name": "Python 3 (ipykernel)",
   "language": "python",
   "name": "python3"
  },
  "language_info": {
   "codemirror_mode": {
    "name": "ipython",
    "version": 3
   },
   "file_extension": ".py",
   "mimetype": "text/x-python",
   "name": "python",
   "nbconvert_exporter": "python",
   "pygments_lexer": "ipython3",
   "version": "3.8.12"
  }
 },
 "nbformat": 4,
 "nbformat_minor": 5
}
