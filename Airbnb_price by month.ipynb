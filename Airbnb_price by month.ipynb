{
 "cells": [
  {
   "cell_type": "markdown",
   "id": "663be93d",
   "metadata": {},
   "source": [
    "In this notebook I will look for an answer to question whether the season (month) has noticeable effect on rent prices in Seattle."
   ]
  },
  {
   "cell_type": "code",
   "execution_count": 128,
   "id": "bb8a82f7",
   "metadata": {},
   "outputs": [],
   "source": [
    "import numpy as np\n",
    "import pandas as pd\n",
    "import seaborn as sns\n",
    "import matplotlib.pyplot as plt\n",
    "%matplotlib inline"
   ]
  },
  {
   "cell_type": "code",
   "execution_count": 129,
   "id": "c8379632",
   "metadata": {},
   "outputs": [
    {
     "data": {
      "text/html": [
       "<div>\n",
       "<style scoped>\n",
       "    .dataframe tbody tr th:only-of-type {\n",
       "        vertical-align: middle;\n",
       "    }\n",
       "\n",
       "    .dataframe tbody tr th {\n",
       "        vertical-align: top;\n",
       "    }\n",
       "\n",
       "    .dataframe thead th {\n",
       "        text-align: right;\n",
       "    }\n",
       "</style>\n",
       "<table border=\"1\" class=\"dataframe\">\n",
       "  <thead>\n",
       "    <tr style=\"text-align: right;\">\n",
       "      <th></th>\n",
       "      <th>listing_id</th>\n",
       "      <th>date</th>\n",
       "      <th>available</th>\n",
       "      <th>price</th>\n",
       "    </tr>\n",
       "  </thead>\n",
       "  <tbody>\n",
       "    <tr>\n",
       "      <th>0</th>\n",
       "      <td>241032</td>\n",
       "      <td>2016-01-04</td>\n",
       "      <td>t</td>\n",
       "      <td>$85.00</td>\n",
       "    </tr>\n",
       "    <tr>\n",
       "      <th>1</th>\n",
       "      <td>241032</td>\n",
       "      <td>2016-01-05</td>\n",
       "      <td>t</td>\n",
       "      <td>$85.00</td>\n",
       "    </tr>\n",
       "    <tr>\n",
       "      <th>2</th>\n",
       "      <td>241032</td>\n",
       "      <td>2016-01-06</td>\n",
       "      <td>f</td>\n",
       "      <td>NaN</td>\n",
       "    </tr>\n",
       "    <tr>\n",
       "      <th>3</th>\n",
       "      <td>241032</td>\n",
       "      <td>2016-01-07</td>\n",
       "      <td>f</td>\n",
       "      <td>NaN</td>\n",
       "    </tr>\n",
       "    <tr>\n",
       "      <th>4</th>\n",
       "      <td>241032</td>\n",
       "      <td>2016-01-08</td>\n",
       "      <td>f</td>\n",
       "      <td>NaN</td>\n",
       "    </tr>\n",
       "  </tbody>\n",
       "</table>\n",
       "</div>"
      ],
      "text/plain": [
       "   listing_id        date available   price\n",
       "0      241032  2016-01-04         t  $85.00\n",
       "1      241032  2016-01-05         t  $85.00\n",
       "2      241032  2016-01-06         f     NaN\n",
       "3      241032  2016-01-07         f     NaN\n",
       "4      241032  2016-01-08         f     NaN"
      ]
     },
     "execution_count": 129,
     "metadata": {},
     "output_type": "execute_result"
    }
   ],
   "source": [
    "# For the need of our analysis we need to download the 'calendar.csv' data only.\n",
    "df_calendar = pd.read_csv('archive/calendar.csv')\n",
    "df_calendar.head()"
   ]
  },
  {
   "cell_type": "code",
   "execution_count": 130,
   "id": "e4be4d93",
   "metadata": {},
   "outputs": [
    {
     "name": "stdout",
     "output_type": "stream",
     "text": [
      "<class 'pandas.core.frame.DataFrame'>\n",
      "RangeIndex: 1393570 entries, 0 to 1393569\n",
      "Data columns (total 4 columns):\n",
      " #   Column      Non-Null Count    Dtype \n",
      "---  ------      --------------    ----- \n",
      " 0   listing_id  1393570 non-null  int64 \n",
      " 1   date        1393570 non-null  object\n",
      " 2   available   1393570 non-null  object\n",
      " 3   price       934542 non-null   object\n",
      "dtypes: int64(1), object(3)\n",
      "memory usage: 42.5+ MB\n"
     ]
    }
   ],
   "source": [
    "# lets look at datatypes used in this table\n",
    "df_calendar.info()"
   ]
  },
  {
   "cell_type": "code",
   "execution_count": 131,
   "id": "db2a4bf1",
   "metadata": {},
   "outputs": [],
   "source": [
    "# We see that date datatype is object (and we need it to be the datetime) and the price is object since it has\n",
    "# the currency sign in front of the amount\n",
    "# let's convert the date to datetime datatype.\n",
    "df_calendar['date'] = pd.to_datetime(df['date'].str.strip(), format='%Y-%m-%d')"
   ]
  },
  {
   "cell_type": "code",
   "execution_count": 132,
   "id": "c8ffa122",
   "metadata": {},
   "outputs": [
    {
     "name": "stderr",
     "output_type": "stream",
     "text": [
      "/var/folders/2z/0v2b22ds6vsd_n4drt7f17bh0000gn/T/ipykernel_93160/1163566136.py:2: FutureWarning: Treating datetime data as categorical rather than numeric in `.describe` is deprecated and will be removed in a future version of pandas. Specify `datetime_is_numeric=True` to silence this warning and adopt the future behavior now.\n",
      "  df_calendar.date.describe()\n"
     ]
    },
    {
     "data": {
      "text/plain": [
       "count                 1393570\n",
       "unique                    365\n",
       "top       2016-01-04 00:00:00\n",
       "freq                     3818\n",
       "first     2016-01-04 00:00:00\n",
       "last      2017-01-02 00:00:00\n",
       "Name: date, dtype: object"
      ]
     },
     "execution_count": 132,
     "metadata": {},
     "output_type": "execute_result"
    }
   ],
   "source": [
    "# Let's check the period which is covered by the calendar (we need just 1 full year)\n",
    "df_calendar.date.describe()"
   ]
  },
  {
   "cell_type": "code",
   "execution_count": 133,
   "id": "a69fd362",
   "metadata": {},
   "outputs": [],
   "source": [
    "# As we see above there are some entries from 2017. So let's limit our data to 2016.\n",
    "df_calendar = df_calendar[df_calendar.date.le('2016-12-31')]"
   ]
  },
  {
   "cell_type": "code",
   "execution_count": 134,
   "id": "2381ea18",
   "metadata": {},
   "outputs": [],
   "source": [
    "# Also in the datatypes info we noticed that prices have datatype 'object'. For the purposes of our analysis\n",
    "# we need to convert them to \"float\". So we need to remove $ signs and thousands separators ','\n",
    "\n",
    "df_calendar['price'] = df_calendar['price'].replace('[\\$,]', '', regex=True).astype(float)"
   ]
  },
  {
   "cell_type": "code",
   "execution_count": 135,
   "id": "c0c0b50b",
   "metadata": {},
   "outputs": [],
   "source": [
    "# Then let's group the columns 'date' and 'price' by months using average for prices\n",
    "df_calendar = df_calendar[['date', 'price']]\n",
    "df_calendar = df_calendar.set_index('date') "
   ]
  },
  {
   "cell_type": "code",
   "execution_count": 136,
   "id": "0ac756ab",
   "metadata": {},
   "outputs": [],
   "source": [
    "grouper = df_calendar.groupby(pd.Grouper(freq=\"M\"))"
   ]
  },
  {
   "cell_type": "code",
   "execution_count": 137,
   "id": "1e35369a",
   "metadata": {},
   "outputs": [],
   "source": [
    "# It should be noted that mean function here doesn't take into account NA records which is completely fine.\n",
    "data = grouper.mean()"
   ]
  },
  {
   "cell_type": "code",
   "execution_count": 138,
   "id": "b82b8bae",
   "metadata": {},
   "outputs": [
    {
     "data": {
      "image/png": "[encoded data removed]",
      "text/plain": [
       "<Figure size 720x432 with 1 Axes>"
      ]
     },
     "metadata": {
      "needs_background": "light"
     },
     "output_type": "display_data"
    }
   ],
   "source": [
    "# Now we can plot our bar chart that shows the average price fluctuation by month.\n",
    "plt.figure(figsize=[10, 6]);\n",
    "sns.set(style=\"whitegrid\");\n",
    "sns.barplot(data=data, x=data.index.month_name(), y='price', color='steelblue');\n",
    "plt.xticks(rotation=20);\n",
    "plt.ylabel('Price, USD');\n",
    "plt.xlabel('');\n",
    "plt.title('Average prices by month');"
   ]
  },
  {
   "cell_type": "code",
   "execution_count": null,
   "id": "bc52ba09",
   "metadata": {},
   "outputs": [],
   "source": []
  }
 ],
 "metadata": {
  "kernelspec": {
   "display_name": "Python 3 (ipykernel)",
   "language": "python",
   "name": "python3"
  },
  "language_info": {
   "codemirror_mode": {
    "name": "ipython",
    "version": 3
   },
   "file_extension": ".py",
   "mimetype": "text/x-python",
   "name": "python",
   "nbconvert_exporter": "python",
   "pygments_lexer": "ipython3",
   "version": "3.8.12"
  }
 },
 "nbformat": 4,
 "nbformat_minor": 5
}
