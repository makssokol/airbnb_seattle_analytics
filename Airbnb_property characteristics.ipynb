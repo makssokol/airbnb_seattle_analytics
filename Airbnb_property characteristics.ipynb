{
 "cells": [
  {
   "cell_type": "markdown",
   "id": "f0ba6591",
   "metadata": {},
   "source": [
    "Here we will try to identify 3 most frequent and 3 least frequent characteristics of the properties rented. This is really interesting in order to get the understanding of the nature of rented properties."
   ]
  },
  {
   "cell_type": "code",
   "execution_count": 1,
   "id": "d18ba1fa",
   "metadata": {},
   "outputs": [],
   "source": [
    "import numpy as np\n",
    "import pandas as pd"
   ]
  },
  {
   "cell_type": "code",
   "execution_count": 2,
   "id": "232e56df",
   "metadata": {},
   "outputs": [
    {
     "data": {
      "text/plain": [
       "Index(['id', 'listing_url', 'scrape_id', 'last_scraped', 'name', 'summary',\n",
       "       'space', 'description', 'experiences_offered', 'neighborhood_overview',\n",
       "       'notes', 'transit', 'thumbnail_url', 'medium_url', 'picture_url',\n",
       "       'xl_picture_url', 'host_id', 'host_url', 'host_name', 'host_since',\n",
       "       'host_location', 'host_about', 'host_response_time',\n",
       "       'host_response_rate', 'host_acceptance_rate', 'host_is_superhost',\n",
       "       'host_thumbnail_url', 'host_picture_url', 'host_neighbourhood',\n",
       "       'host_listings_count', 'host_total_listings_count',\n",
       "       'host_verifications', 'host_has_profile_pic', 'host_identity_verified',\n",
       "       'street', 'neighbourhood', 'neighbourhood_cleansed',\n",
       "       'neighbourhood_group_cleansed', 'city', 'state', 'zipcode', 'market',\n",
       "       'smart_location', 'country_code', 'country', 'latitude', 'longitude',\n",
       "       'is_location_exact', 'property_type', 'room_type', 'accommodates',\n",
       "       'bathrooms', 'bedrooms', 'beds', 'bed_type', 'amenities', 'square_feet',\n",
       "       'price', 'weekly_price', 'monthly_price', 'security_deposit',\n",
       "       'cleaning_fee', 'guests_included', 'extra_people', 'minimum_nights',\n",
       "       'maximum_nights', 'calendar_updated', 'has_availability',\n",
       "       'availability_30', 'availability_60', 'availability_90',\n",
       "       'availability_365', 'calendar_last_scraped', 'number_of_reviews',\n",
       "       'first_review', 'last_review', 'review_scores_rating',\n",
       "       'review_scores_accuracy', 'review_scores_cleanliness',\n",
       "       'review_scores_checkin', 'review_scores_communication',\n",
       "       'review_scores_location', 'review_scores_value', 'requires_license',\n",
       "       'license', 'jurisdiction_names', 'instant_bookable',\n",
       "       'cancellation_policy', 'require_guest_profile_picture',\n",
       "       'require_guest_phone_verification', 'calculated_host_listings_count',\n",
       "       'reviews_per_month'],\n",
       "      dtype='object')"
      ]
     },
     "execution_count": 2,
     "metadata": {},
     "output_type": "execute_result"
    }
   ],
   "source": [
    "# Let's read the listings file and look at the columns to find out what column contains the\n",
    "# list of charachteristics of the property.\n",
    "df = pd.read_csv('archive/listings.csv')\n",
    "df.columns"
   ]
  },
  {
   "cell_type": "markdown",
   "id": "9a5deaa2",
   "metadata": {},
   "source": [
    "We can see that the column 'amenities' is probably what do we need."
   ]
  },
  {
   "cell_type": "code",
   "execution_count": 3,
   "id": "da445c61",
   "metadata": {},
   "outputs": [],
   "source": [
    "# Below I create the list of features presented in all records of the listing dataframe.\n",
    "# In order to avoid duplicate records I'll made this in for set.\n",
    "set_of_features = set()\n",
    "for i in range(0, df.shape[0]):\n",
    "    for j in range(0, len(df.amenities[i][1:-1].split(','))):\n",
    "        set_of_features.add(df.amenities[i][1:-1].split(',')[j])"
   ]
  },
  {
   "cell_type": "code",
   "execution_count": 4,
   "id": "56ff7bee",
   "metadata": {},
   "outputs": [
    {
     "data": {
      "text/plain": [
       "{'',\n",
       " '\"24-Hour Check-in\"',\n",
       " '\"Air Conditioning\"',\n",
       " '\"Buzzer/Wireless Intercom\"',\n",
       " '\"Cable TV\"',\n",
       " '\"Carbon Monoxide Detector\"',\n",
       " '\"Elevator in Building\"',\n",
       " '\"Family/Kid Friendly\"',\n",
       " '\"Fire Extinguisher\"',\n",
       " '\"First Aid Kit\"',\n",
       " '\"Free Parking on Premises\"',\n",
       " '\"Hair Dryer\"',\n",
       " '\"Hot Tub\"',\n",
       " '\"Indoor Fireplace\"',\n",
       " '\"Laptop Friendly Workspace\"',\n",
       " '\"Lock on Bedroom Door\"',\n",
       " '\"Other pet(s)\"',\n",
       " '\"Pets Allowed\"',\n",
       " '\"Pets live on this property\"',\n",
       " '\"Safety Card\"',\n",
       " '\"Smoke Detector\"',\n",
       " '\"Smoking Allowed\"',\n",
       " '\"Suitable for Events\"',\n",
       " '\"Washer / Dryer\"',\n",
       " '\"Wheelchair Accessible\"',\n",
       " '\"Wireless Internet\"',\n",
       " 'Breakfast',\n",
       " 'Cat(s)',\n",
       " 'Dog(s)',\n",
       " 'Doorman',\n",
       " 'Dryer',\n",
       " 'Essentials',\n",
       " 'Gym',\n",
       " 'Hangers',\n",
       " 'Heating',\n",
       " 'Internet',\n",
       " 'Iron',\n",
       " 'Kitchen',\n",
       " 'Pool',\n",
       " 'Shampoo',\n",
       " 'TV',\n",
       " 'Washer'}"
      ]
     },
     "execution_count": 4,
     "metadata": {},
     "output_type": "execute_result"
    }
   ],
   "source": [
    "# Here is our set:\n",
    "set_of_features"
   ]
  },
  {
   "cell_type": "code",
   "execution_count": 5,
   "id": "37a192d6",
   "metadata": {},
   "outputs": [],
   "source": [
    "# Now let's count how many time each feature from the set is mentioned in the property list.\n",
    "# We will record it in the form of dictionary.\n",
    "counter = {}\n",
    "for i in range(0, df.shape[0]):\n",
    "    for j in range(0, len(df.amenities[i][1:-1].split(','))):\n",
    "        if df.amenities[i][1:-1].split(',')[j] in counter:\n",
    "            counter[df.amenities[i][1:-1].split(',')[j]] += 1\n",
    "        else:\n",
    "            counter[df.amenities[i][1:-1].split(',')[j]] = 1"
   ]
  },
  {
   "cell_type": "code",
   "execution_count": 6,
   "id": "0ab27aaa",
   "metadata": {},
   "outputs": [
    {
     "data": {
      "text/plain": [
       "{'TV': 2574,\n",
       " '\"Cable TV\"': 1446,\n",
       " 'Internet': 2811,\n",
       " '\"Wireless Internet\"': 3667,\n",
       " '\"Air Conditioning\"': 677,\n",
       " 'Kitchen': 3423,\n",
       " 'Heating': 3627,\n",
       " '\"Family/Kid Friendly\"': 1963,\n",
       " 'Washer': 2992,\n",
       " 'Dryer': 2997,\n",
       " '\"Free Parking on Premises\"': 2167,\n",
       " '\"Buzzer/Wireless Intercom\"': 538,\n",
       " '\"Smoke Detector\"': 3281,\n",
       " '\"Carbon Monoxide Detector\"': 2485,\n",
       " '\"First Aid Kit\"': 1680,\n",
       " '\"Safety Card\"': 727,\n",
       " '\"Fire Extinguisher\"': 2196,\n",
       " 'Essentials': 3237,\n",
       " '\"Pets Allowed\"': 472,\n",
       " '\"Pets live on this property\"': 883,\n",
       " 'Dog(s)': 509,\n",
       " 'Cat(s)': 382,\n",
       " '\"Hot Tub\"': 303,\n",
       " '\"Indoor Fireplace\"': 886,\n",
       " 'Shampoo': 2670,\n",
       " 'Breakfast': 291,\n",
       " '\"24-Hour Check-in\"': 616,\n",
       " 'Hangers': 846,\n",
       " '\"Hair Dryer\"': 774,\n",
       " 'Iron': 742,\n",
       " '\"Laptop Friendly Workspace\"': 745,\n",
       " '\"Suitable for Events\"': 209,\n",
       " '\"Elevator in Building\"': 785,\n",
       " '\"Lock on Bedroom Door\"': 100,\n",
       " '\"Wheelchair Accessible\"': 300,\n",
       " 'Gym': 442,\n",
       " '': 45,\n",
       " 'Pool': 159,\n",
       " '\"Smoking Allowed\"': 82,\n",
       " '\"Other pet(s)\"': 51,\n",
       " 'Doorman': 85,\n",
       " '\"Washer / Dryer\"': 2}"
      ]
     },
     "execution_count": 6,
     "metadata": {},
     "output_type": "execute_result"
    }
   ],
   "source": [
    "# Here is our counter \n",
    "counter"
   ]
  },
  {
   "cell_type": "code",
   "execution_count": 7,
   "id": "52604192",
   "metadata": {},
   "outputs": [
    {
     "data": {
      "text/plain": [
       "['\"Wireless Internet\"', 'Heating', 'Kitchen']"
      ]
     },
     "execution_count": 7,
     "metadata": {},
     "output_type": "execute_result"
    }
   ],
   "source": [
    "# In order to obtain most and least frequent features we need to sort the dictionary by values.\n",
    "# So the most frequent features are:\n",
    "list(dict(sorted(counter.items(), key=lambda item: item[1], reverse=True)))[0:3]"
   ]
  },
  {
   "cell_type": "code",
   "execution_count": 8,
   "id": "237e3c5f",
   "metadata": {},
   "outputs": [
    {
     "data": {
      "text/plain": [
       "['\"Smoking Allowed\"', '\"Other pet(s)\"', '', '\"Washer / Dryer\"']"
      ]
     },
     "execution_count": 8,
     "metadata": {},
     "output_type": "execute_result"
    }
   ],
   "source": [
    "# And the most rare feature are (4 items since one of them is empty record):\n",
    "list(dict(sorted(counter.items(), key=lambda item: item[1], reverse=True)))[-4:]"
   ]
  },
  {
   "cell_type": "code",
   "execution_count": null,
   "id": "5c432e41",
   "metadata": {},
   "outputs": [],
   "source": []
  }
 ],
 "metadata": {
  "kernelspec": {
   "display_name": "Python 3 (ipykernel)",
   "language": "python",
   "name": "python3"
  },
  "language_info": {
   "codemirror_mode": {
    "name": "ipython",
    "version": 3
   },
   "file_extension": ".py",
   "mimetype": "text/x-python",
   "name": "python",
   "nbconvert_exporter": "python",
   "pygments_lexer": "ipython3",
   "version": "3.8.12"
  }
 },
 "nbformat": 4,
 "nbformat_minor": 5
}
